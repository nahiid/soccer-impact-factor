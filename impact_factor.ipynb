{
 "cells": [
  {
   "cell_type": "markdown",
   "metadata": {},
   "source": [
    "Import Libraries"
   ]
  },
  {
   "cell_type": "code",
   "execution_count": null,
   "metadata": {},
   "outputs": [],
   "source": [
    "%load_ext autoreload\n",
    "%autoreload 2\n",
    "import pandas as pd\n",
    "pd.set_option(\"display.max_rows\", 101)\n",
    "pd.set_option(\"display.max_columns\", 101)\n",
    "\n",
    "import matplotlib.pyplot as plt\n",
    "import os\n",
    "\n",
    "# set up initial path to data\n",
    "DATADIR = os.path.join(\"sample-data\",\"data\")\n",
    "game_id = 2 # let's look at sample match 2"
   ]
  },
  {
   "cell_type": "markdown",
   "metadata": {},
   "source": [
    "Import Metrics"
   ]
  },
  {
   "cell_type": "code",
   "execution_count": null,
   "metadata": {},
   "outputs": [],
   "source": [
    "import Metrica_IO as mio\n",
    "import Metrica_Viz as mviz"
   ]
  },
  {
   "cell_type": "markdown",
   "metadata": {},
   "source": [
    "Read datasets"
   ]
  },
  {
   "cell_type": "code",
   "execution_count": null,
   "metadata": {},
   "outputs": [],
   "source": [
    "# read in the event data\n",
    "events = mio.read_event_data(DATADIR,game_id)\n",
    "tracking_home = mio.tracking_data(DATADIR,game_id,'Home')\n",
    "tracking_away = mio.tracking_data(DATADIR,game_id,'Away')\n",
    "\n",
    "# Convert positions from metrica units to meters \n",
    "tracking_home = mio.to_metric_coordinates(tracking_home)\n",
    "tracking_away = mio.to_metric_coordinates(tracking_away)"
   ]
  },
  {
   "cell_type": "markdown",
   "metadata": {},
   "source": [
    "Merge the two tracking DataFrames based on the 'Time [s]' column, which is common to both"
   ]
  },
  {
   "cell_type": "code",
   "execution_count": null,
   "metadata": {},
   "outputs": [],
   "source": [
    "tracking_data = pd.merge(tracking_away, tracking_home, on='Time [s]', how='outer')\n",
    "\n",
    "# Sort the combined DataFrame by the 'Time [s]' column\n",
    "tracking_data = tracking_data.sort_values(by='Time [s]')\n",
    "\n",
    "# Reset the index of the combined DataFrame\n",
    "tracking_data.reset_index(drop=True, inplace=True)\n",
    "\n",
    "# If you want to fill NaN values with a specific value, you can use fillna\n",
    "# For example, to fill NaN values with 0:\n",
    "tracking_data.fillna(0, inplace=True)\n",
    "\n",
    "# Now, you have a single DataFrame containing tracking data for both t\n",
    "tracking_data"
   ]
  },
  {
   "cell_type": "code",
   "execution_count": null,
   "metadata": {},
   "outputs": [],
   "source": [
    "# Specify the columns to be removed\n",
    "columns_to_remove = ['ball_x_y', 'ball_y_y', 'Period_y']\n",
    "\n",
    "# Use the drop method to remove the specified columns\n",
    "tracking_data = tracking_data.drop(columns=columns_to_remove)"
   ]
  },
  {
   "cell_type": "code",
   "execution_count": null,
   "metadata": {},
   "outputs": [],
   "source": [
    "tracking_data"
   ]
  },
  {
   "cell_type": "code",
   "execution_count": null,
   "metadata": {},
   "outputs": [],
   "source": [
    "# read in the event data\n",
    "event_data = mio.read_event_data(DATADIR,game_id)\n",
    "\n",
    "# Bit of housekeeping: unit conversion from metric data units to meters\n",
    "event_data = mio.to_metric_coordinates(events)"
   ]
  },
  {
   "cell_type": "code",
   "execution_count": null,
   "metadata": {},
   "outputs": [],
   "source": [
    "event_data"
   ]
  },
  {
   "cell_type": "code",
   "execution_count": null,
   "metadata": {},
   "outputs": [],
   "source": [
    "tracking_data"
   ]
  },
  {
   "cell_type": "code",
   "execution_count": null,
   "metadata": {},
   "outputs": [],
   "source": [
    "# Merge the datasets based on 'Start Time [s]'\n",
    "merged_end = pd.merge(event_data, tracking_data, left_on='End Time [s]', right_on='Time [s]', how='left')\n",
    "\n",
    "# Rename columns with '_x' suffix to avoid conflicts\n",
    "merged_end.columns = [col if '_x' not in col else col[:-2] for col in merged_end.columns]\n",
    "\n",
    "# Remove duplicate rows based on the 'event_data' columns\n",
    "merged_end = merged_end.drop_duplicates(subset=['Team', 'Type', 'Subtype', 'Period', 'Start Frame', 'Start Time [s]', 'End Frame', 'End Time [s]', 'From', 'To', 'Start X', 'Start Y', 'End X', 'End Y'])\n",
    "\n",
    "# Reset the index\n",
    "merged_end = merged_end.reset_index(drop=True)"
   ]
  },
  {
   "cell_type": "code",
   "execution_count": null,
   "metadata": {},
   "outputs": [],
   "source": [
    "merged_end.to_csv('merged_end.csv', index=False)"
   ]
  },
  {
   "cell_type": "code",
   "execution_count": null,
   "metadata": {},
   "outputs": [],
   "source": [
    "# Merge the datasets based on 'Start Time [s]'\n",
    "merged_start = pd.merge(event_data, tracking_data, left_on='Start Time [s]', right_on='Time [s]', how='left')\n",
    "\n",
    "# Rename columns with '_x' suffix to avoid conflicts\n",
    "merged_start.columns = [col if '_x' not in col else col[:-2] for col in merged_start.columns]\n",
    "\n",
    "# Remove duplicate rows based on the 'event_data' columns\n",
    "merged_start = merged_start.drop_duplicates(subset=['Team', 'Type', 'Subtype', 'Period', 'Start Frame', 'Start Time [s]', 'End Frame', 'End Time [s]', 'From', 'To', 'Start X', 'Start Y', 'End X', 'End Y'])\n",
    "\n",
    "# Reset the index\n",
    "merged_start = merged_start.reset_index(drop=True)"
   ]
  },
  {
   "cell_type": "code",
   "execution_count": null,
   "metadata": {},
   "outputs": [],
   "source": [
    "merged_start.to_csv('merged_start.csv', index=False)"
   ]
  },
  {
   "cell_type": "code",
   "execution_count": null,
   "metadata": {},
   "outputs": [],
   "source": [
    "merged_start\n"
   ]
  },
  {
   "cell_type": "code",
   "execution_count": null,
   "metadata": {},
   "outputs": [],
   "source": [
    "merged_end"
   ]
  },
  {
   "cell_type": "markdown",
   "metadata": {},
   "source": [
    "#### Define Metrics"
   ]
  },
  {
   "cell_type": "code",
   "execution_count": null,
   "metadata": {},
   "outputs": [],
   "source": [
    "pass_start = merged_start[merged_start['Type'] == 'PASS']"
   ]
  },
  {
   "cell_type": "code",
   "execution_count": null,
   "metadata": {},
   "outputs": [],
   "source": [
    "pass_start = pd.DataFrame(pass_start)"
   ]
  },
  {
   "cell_type": "code",
   "execution_count": null,
   "metadata": {},
   "outputs": [],
   "source": [
    "type(pass_start)"
   ]
  },
  {
   "cell_type": "code",
   "execution_count": null,
   "metadata": {},
   "outputs": [],
   "source": [
    "pass_start"
   ]
  },
  {
   "cell_type": "markdown",
   "metadata": {},
   "source": [
    "Calculate Number Of the apponents in the area of 5m from the ball"
   ]
  },
  {
   "cell_type": "code",
   "execution_count": null,
   "metadata": {},
   "outputs": [],
   "source": [
    "pass_start['app_num'] = 0  # Initialize the app_num column\n",
    "\n",
    "# Iterate through each row of the DataFrame\n",
    "for index, row in pass_start.iterrows():\n",
    "    ho_app = 0\n",
    "    aw_app = 0\n",
    "    if row['Team'] == 'Home':\n",
    "        # Calculate the distance to each Away player and append it to the list\n",
    "        for player in range(15, 27):  # Assuming player IDs are from 15 to 26\n",
    "            distance = ((row['Start X'] - row[f'Away_{player}']) ** 2 + (row['Start Y'] - row[f'Away_{player}_y']) ** 2) ** 0.5\n",
    "            if distance<=5 :\n",
    "                ho_app = ho_app + 1\n",
    "        pass_start.at[index, 'app_num'] = ho_app\n",
    "    elif row['Team'] == 'Away':\n",
    "        # Calculate the distance to each Home player and append it to the list\n",
    "        for player in range(1, 15):  # Assuming player IDs are from 1 to 14\n",
    "            distance = ((row['Start X'] - row[f'Home_{player}']) ** 2 + (row['Start Y'] - row[f'Home_{player}_y']) ** 2) ** 0.5\n",
    "            if distance<=5 :\n",
    "                aw_app = aw_app + 1\n",
    "        pass_start.at[index, 'app_num'] = aw_app"
   ]
  },
  {
   "cell_type": "code",
   "execution_count": null,
   "metadata": {},
   "outputs": [],
   "source": [
    "pass_start"
   ]
  },
  {
   "cell_type": "markdown",
   "metadata": {},
   "source": [
    "Calculate Number Of the Team players (the side who posses the ball) in the area of 5m from the ball"
   ]
  },
  {
   "cell_type": "code",
   "execution_count": null,
   "metadata": {},
   "outputs": [],
   "source": [
    "pass_start['teammate_num'] = 0  # Initialize the teammate numbers column\n",
    "\n",
    "# Iterate through each row of the DataFrame\n",
    "for index, row in pass_start.iterrows():\n",
    "    ho_teammates = 0\n",
    "    aw_teammates = 0\n",
    "    if row['Team'] == 'Home':\n",
    "        # Calculate the distance to each Away player and append it to the list\n",
    "        for player in range(1,15):  # Assuming Home player IDs are from 1 to 14\n",
    "            distance = ((row['Start X'] - row[f'Home_{player}']) ** 2 + (row['Start Y'] - row[f'Home_{player}_y']) ** 2) ** 0.5\n",
    "            if distance<=5 :\n",
    "                ho_teammates = ho_teammates + 1\n",
    "        pass_start.at[index, 'teammate_num'] = ho_teammates\n",
    "    elif row['Team'] == 'Away':\n",
    "        # Calculate the distance to each Home player and append it to the list\n",
    "        for player in range(15, 27):  # Assuming Away player IDs are from 15 to 26\n",
    "            distance = ((row['Start X'] - row[f'Away_{player}']) ** 2 + (row['Start Y'] - row[f'Away_{player}_y']) ** 2) ** 0.5\n",
    "            if distance<=5 :\n",
    "                aw_teammates = aw_teammates + 1\n",
    "        pass_start.at[index, 'teammate_num'] = aw_teammates\n",
    "\n",
    "# Create a new column 'teammate numberss' in the DataFrame and assign the calculated aw_app or ho_app\n"
   ]
  },
  {
   "cell_type": "code",
   "execution_count": null,
   "metadata": {},
   "outputs": [],
   "source": [
    "pass_start"
   ]
  },
  {
   "cell_type": "markdown",
   "metadata": {},
   "source": [
    "Determine the ratio of opponents to players in possession of the ball."
   ]
  },
  {
   "cell_type": "code",
   "execution_count": null,
   "metadata": {},
   "outputs": [],
   "source": [
    "pass_start['ratio_s'] = 0  # Initialize the teammate numbers column\n",
    "\n",
    "# Iterate through each row of the DataFrame\n",
    "for index, row in pass_start.iterrows():\n",
    "   pass_start.at[index, 'ratio_s'] = row['app_num'] / row['teammate_num']"
   ]
  },
  {
   "cell_type": "code",
   "execution_count": null,
   "metadata": {},
   "outputs": [],
   "source": [
    "pass_start"
   ]
  },
  {
   "cell_type": "markdown",
   "metadata": {},
   "source": [
    "Calculate the ratio this time for the merged_end dataset"
   ]
  },
  {
   "cell_type": "code",
   "execution_count": null,
   "metadata": {},
   "outputs": [],
   "source": [
    "pass_end = merged_end[merged_end['Type'] == 'PASS']\n",
    "pass_end = pd.DataFrame(pass_end)\n",
    "\n",
    "##Calculate Number Of the apponents in the area of 5m from the ball\n",
    "\n",
    "pass_end['app_num'] = 0  # Initialize the app_num column\n",
    "\n",
    "# Iterate through each row of the DataFrame\n",
    "for index, row in pass_end.iterrows():\n",
    "    ho_app = 0\n",
    "    aw_app = 0\n",
    "    if row['Team'] == 'Home':\n",
    "        # Calculate the distance to each Away player and append it to the list\n",
    "        for player in range(15, 27):  # Assuming player IDs are from 15 to 26\n",
    "            distance = ((row['Start X'] - row[f'Away_{player}']) ** 2 + (row['Start Y'] - row[f'Away_{player}_y']) ** 2) ** 0.5\n",
    "            if distance<=5 :\n",
    "                ho_app = ho_app + 1\n",
    "        pass_end.at[index, 'app_num'] = ho_app\n",
    "    elif row['Team'] == 'Away':\n",
    "        # Calculate the distance to each Home player and append it to the list\n",
    "        for player in range(1, 15):  # Assuming player IDs are from 1 to 14\n",
    "            distance = ((row['Start X'] - row[f'Home_{player}']) ** 2 + (row['Start Y'] - row[f'Home_{player}_y']) ** 2) ** 0.5\n",
    "            if distance<=5 :\n",
    "                aw_app = aw_app + 1\n",
    "        pass_end.at[index, 'app_num'] = aw_app\n",
    "\n",
    "##Calculate Number Of the Team players (the side who posses the ball) in the area of 5m from the ball\n",
    "\n",
    "pass_end['teammate_num'] = 0  # Initialize the teammate numbers column\n",
    "# Iterate through each row of the DataFrame\n",
    "for index, row in pass_end.iterrows():\n",
    "    ho_teammates = 0\n",
    "    aw_teammates = 0\n",
    "    if row['Team'] == 'Home':\n",
    "        # Calculate the distance to each Away player and append it to the list\n",
    "        for player in range(1,15):  # Assuming Home player IDs are from 1 to 14\n",
    "            distance = ((row['End X'] - row[f'Home_{player}']) ** 2 + (row['End Y'] - row[f'Home_{player}_y']) ** 2) ** 0.5\n",
    "            if distance<=5 :\n",
    "                ho_teammates = ho_teammates + 1\n",
    "        pass_end.at[index, 'teammate_num'] = ho_teammates\n",
    "    elif row['Team'] == 'Away':\n",
    "        # Calculate the distance to each Home player and append it to the list\n",
    "        for player in range(15, 27):  # Assuming Away player IDs are from 15 to 26\n",
    "            distance = ((row['End X'] - row[f'Away_{player}']) ** 2 + (row['End Y'] - row[f'Away_{player}_y']) ** 2) ** 0.5\n",
    "            if distance<=5 :\n",
    "                aw_teammates = aw_teammates + 1\n",
    "        pass_end.at[index, 'teammate_num'] = aw_teammates\n",
    "\n",
    "##Determine the ratio of opponents to players in possession of the ball.\n",
    "\n",
    "pass_end['ratio_e'] = 0  # Initialize the teammate numbers column\n",
    "# Iterate through each row of the DataFrame\n",
    "for index, row in pass_end.iterrows():\n",
    "   pass_end.at[index, 'ratio_e'] = row['app_num'] / row['teammate_num']\n",
    "\n"
   ]
  },
  {
   "cell_type": "code",
   "execution_count": null,
   "metadata": {},
   "outputs": [],
   "source": [
    "pass_end"
   ]
  },
  {
   "cell_type": "markdown",
   "metadata": {},
   "source": [
    "#1 Find the difference between the two ratios >> The more the better"
   ]
  },
  {
   "cell_type": "code",
   "execution_count": null,
   "metadata": {},
   "outputs": [],
   "source": [
    "pass_start['diff_ratio'] = pass_start['ratio_s'] - pass_end['ratio_e']"
   ]
  },
  {
   "cell_type": "code",
   "execution_count": null,
   "metadata": {},
   "outputs": [],
   "source": [
    "pass_start"
   ]
  },
  {
   "cell_type": "markdown",
   "metadata": {},
   "source": [
    "#2 Calculate the difference between the number of opponents and the number of teammates near the player who received the pass. >> The less the better"
   ]
  },
  {
   "cell_type": "code",
   "execution_count": null,
   "metadata": {},
   "outputs": [],
   "source": [
    "pass_end['diff_app_mate'] = pass_end['app_num'] - pass_end['teammate_num']"
   ]
  },
  {
   "cell_type": "code",
   "execution_count": null,
   "metadata": {},
   "outputs": [],
   "source": [
    "pass_end"
   ]
  },
  {
   "cell_type": "markdown",
   "metadata": {},
   "source": [
    "#3 Determine the distance covered by the ball during the pass."
   ]
  },
  {
   "cell_type": "code",
   "execution_count": null,
   "metadata": {},
   "outputs": [],
   "source": [
    "# Initialize an empty list to store 'PassVector' values, it shows both the magnitude and the direction of the ball during the pass\n",
    "pass_vectors = []\n",
    "\n",
    "# Loop through each row in the DataFrame\n",
    "for index, row in pass_start.iterrows():\n",
    "    if row['End X'] < row['Start X']:\n",
    "        pass_vectors.append(((((row['End X'] - row['Start X'])**2 + (row['End Y'] - row['Start Y'])**2) ** 0.5) * -1))\n",
    "    else:\n",
    "        pass_vectors.append(((row['End X'] - row['Start X'])**2 + (row['End Y'] - row['Start Y'])**2) ** 0.5)\n",
    "\n",
    "# Add the 'PassVector' values to the DataFrame\n",
    "pass_start['PassVector'] = pass_vectors"
   ]
  },
  {
   "cell_type": "code",
   "execution_count": null,
   "metadata": {},
   "outputs": [],
   "source": [
    "pass_start"
   ]
  },
  {
   "cell_type": "code",
   "execution_count": null,
   "metadata": {},
   "outputs": [],
   "source": [
    "pass_end['End X'].unique()"
   ]
  },
  {
   "cell_type": "code",
   "execution_count": null,
   "metadata": {},
   "outputs": [],
   "source": [
    "pass_end['End Y'].unique()"
   ]
  },
  {
   "cell_type": "markdown",
   "metadata": {},
   "source": [
    "#4 Determine if the Pass Reciever is in the Penalty Area of the apponent team"
   ]
  },
  {
   "cell_type": "code",
   "execution_count": null,
   "metadata": {},
   "outputs": [],
   "source": [
    "pass_end.dropna(inplace=True)"
   ]
  },
  {
   "cell_type": "code",
   "execution_count": null,
   "metadata": {},
   "outputs": [],
   "source": [
    "# Convert 'Period' column to numeric (integer) type\n",
    "pass_end['Period'] = pass_end['Period'].astype(int)\n",
    "\n",
    "# Ensure 'End X' and 'End Y' columns are in numeric format (float or int)\n",
    "pass_end['End X'] = pass_end['End X'].astype(float)\n",
    "pass_end['End Y'] = pass_end['End Y'].astype(float)"
   ]
  },
  {
   "cell_type": "code",
   "execution_count": null,
   "metadata": {},
   "outputs": [],
   "source": [
    "pass_end['penalty_area'] = 0  # Initialize the new column with zeros\n",
    "for i in range(len(pass_end)):\n",
    "    if (\n",
    "        (pass_end.iloc[i, 3] == 1 and pass_end.iloc[i, 0] == 'Home' and pass_end.iloc[i, 12] <= -43.5 and -20.16 <= pass_end.iloc[i, 13] <= 20.16) or\n",
    "        (pass_end.iloc[i, 3] == 1 and pass_end.iloc[i, 0] == 'Away' and pass_end.iloc[i, 12] >= 43.5 and -20.16 <= pass_end.iloc[i, 13] <= 20.16) or\n",
    "        (pass_end.iloc[i, 3] == 2 and pass_end.iloc[i, 0] == 'Away' and pass_end.iloc[i, 12] <= -43.5 and -20.16 <= pass_end.iloc[i, 13] <= 20.16) or\n",
    "        (pass_end.iloc[i, 3] == 2 and pass_end.iloc[i, 0] == 'Home' and pass_end.iloc[i, 12] >= 43.5 and -20.16 <= pass_end.iloc[i, 13] <= 20.16)\n",
    "    ):\n",
    "        pass_end.iloc[i, 74] = 1"
   ]
  },
  {
   "cell_type": "code",
   "execution_count": null,
   "metadata": {},
   "outputs": [],
   "source": [
    "pass_end[pass_end['penalty_area'] == 1]"
   ]
  }
 ],
 "metadata": {
  "kernelspec": {
   "display_name": "Python 3",
   "language": "python",
   "name": "python3"
  },
  "language_info": {
   "codemirror_mode": {
    "name": "ipython",
    "version": 3
   },
   "file_extension": ".py",
   "mimetype": "text/x-python",
   "name": "python",
   "nbconvert_exporter": "python",
   "pygments_lexer": "ipython3",
   "version": "3.8.4"
  },
  "orig_nbformat": 4
 },
 "nbformat": 4,
 "nbformat_minor": 2
}
