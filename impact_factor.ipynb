{
 "cells": [
  {
   "cell_type": "markdown",
   "metadata": {},
   "source": [
    "Import Libraries"
   ]
  },
  {
   "cell_type": "code",
   "execution_count": null,
   "metadata": {},
   "outputs": [],
   "source": [
    "%load_ext autoreload\n",
    "%autoreload 2\n",
    "import pandas as pd\n",
    "pd.set_option(\"display.max_rows\", 101)\n",
    "pd.set_option(\"display.max_columns\", 101)\n",
    "\n",
    "import matplotlib.pyplot as plt\n",
    "import os\n",
    "\n",
    "# set up initial path to data\n",
    "DATADIR = os.path.join(\"sample-data\",\"data\")\n",
    "game_id = 2 # let's look at sample match 2"
   ]
  },
  {
   "cell_type": "markdown",
   "metadata": {},
   "source": [
    "Import Metrics"
   ]
  },
  {
   "cell_type": "code",
   "execution_count": null,
   "metadata": {},
   "outputs": [],
   "source": [
    "import Metrica_IO as mio\n",
    "import Metrica_Viz as mviz"
   ]
  },
  {
   "cell_type": "markdown",
   "metadata": {},
   "source": [
    "Read datasets"
   ]
  },
  {
   "cell_type": "code",
   "execution_count": null,
   "metadata": {},
   "outputs": [],
   "source": [
    "# read in the event data\n",
    "events = mio.read_event_data(DATADIR,game_id)\n",
    "tracking_home = mio.tracking_data(DATADIR,game_id,'Home')\n",
    "tracking_away = mio.tracking_data(DATADIR,game_id,'Away')\n",
    "\n",
    "# Convert positions from metrica units to meters \n",
    "tracking_home = mio.to_metric_coordinates(tracking_home)\n",
    "tracking_away = mio.to_metric_coordinates(tracking_away)"
   ]
  },
  {
   "cell_type": "markdown",
   "metadata": {},
   "source": [
    "Merge the two tracking DataFrames based on the 'Time [s]' column, which is common to both"
   ]
  },
  {
   "cell_type": "code",
   "execution_count": null,
   "metadata": {},
   "outputs": [],
   "source": [
    "tracking_data = pd.merge(tracking_away, tracking_home, on='Time [s]', how='outer')\n",
    "\n",
    "# Sort the combined DataFrame by the 'Time [s]' column\n",
    "tracking_data = tracking_data.sort_values(by='Time [s]')\n",
    "\n",
    "# Reset the index of the combined DataFrame\n",
    "tracking_data.reset_index(drop=True, inplace=True)\n",
    "\n",
    "# If you want to fill NaN values with a specific value, you can use fillna\n",
    "# For example, to fill NaN values with 0:\n",
    "tracking_data.fillna(0, inplace=True)\n",
    "\n",
    "# Now, you have a single DataFrame containing tracking data for both t\n",
    "tracking_data"
   ]
  },
  {
   "cell_type": "code",
   "execution_count": null,
   "metadata": {},
   "outputs": [],
   "source": [
    "# Specify the columns to be removed\n",
    "columns_to_remove = ['ball_x_y', 'ball_y_y', 'Period_y']\n",
    "\n",
    "# Use the drop method to remove the specified columns\n",
    "tracking_data = tracking_data.drop(columns=columns_to_remove)"
   ]
  },
  {
   "cell_type": "code",
   "execution_count": null,
   "metadata": {},
   "outputs": [],
   "source": [
    "tracking_data"
   ]
  },
  {
   "cell_type": "code",
   "execution_count": null,
   "metadata": {},
   "outputs": [],
   "source": [
    "# read in the event data\n",
    "event_data = mio.read_event_data(DATADIR,game_id)\n",
    "\n",
    "# Bit of housekeeping: unit conversion from metric data units to meters\n",
    "event_data = mio.to_metric_coordinates(events)"
   ]
  },
  {
   "cell_type": "code",
   "execution_count": null,
   "metadata": {},
   "outputs": [],
   "source": [
    "event_data"
   ]
  },
  {
   "cell_type": "code",
   "execution_count": null,
   "metadata": {},
   "outputs": [],
   "source": [
    "tracking_data"
   ]
  },
  {
   "cell_type": "code",
   "execution_count": null,
   "metadata": {},
   "outputs": [],
   "source": [
    "# Merge the datasets based on 'Start Time [s]'\n",
    "merged_end = pd.merge(event_data, tracking_data, left_on='End Time [s]', right_on='Time [s]', how='left')\n",
    "\n",
    "# Rename columns with '_x' suffix to avoid conflicts\n",
    "merged_end.columns = [col if '_x' not in col else col[:-2] for col in merged_end.columns]\n",
    "\n",
    "# Remove duplicate rows based on the 'event_data' columns\n",
    "merged_end = merged_end.drop_duplicates(subset=['Team', 'Type', 'Subtype', 'Period', 'Start Frame', 'Start Time [s]', 'End Frame', 'End Time [s]', 'From', 'To', 'Start X', 'Start Y', 'End X', 'End Y'])\n",
    "\n",
    "# Reset the index\n",
    "merged_end = merged_end.reset_index(drop=True)"
   ]
  },
  {
   "cell_type": "code",
   "execution_count": null,
   "metadata": {},
   "outputs": [],
   "source": [
    "merged_end.to_csv('merged_end.csv', index=False)"
   ]
  },
  {
   "cell_type": "code",
   "execution_count": null,
   "metadata": {},
   "outputs": [],
   "source": [
    "# Merge the datasets based on 'Start Time [s]'\n",
    "merged_start = pd.merge(event_data, tracking_data, left_on='Start Time [s]', right_on='Time [s]', how='left')\n",
    "\n",
    "# Rename columns with '_x' suffix to avoid conflicts\n",
    "merged_start.columns = [col if '_x' not in col else col[:-2] for col in merged_start.columns]\n",
    "\n",
    "# Remove duplicate rows based on the 'event_data' columns\n",
    "merged_start = merged_start.drop_duplicates(subset=['Team', 'Type', 'Subtype', 'Period', 'Start Frame', 'Start Time [s]', 'End Frame', 'End Time [s]', 'From', 'To', 'Start X', 'Start Y', 'End X', 'End Y'])\n",
    "\n",
    "# Reset the index\n",
    "merged_start = merged_start.reset_index(drop=True)"
   ]
  },
  {
   "cell_type": "code",
   "execution_count": null,
   "metadata": {},
   "outputs": [],
   "source": [
    "merged_start.to_csv('merged_start.csv', index=False)"
   ]
  },
  {
   "cell_type": "code",
   "execution_count": null,
   "metadata": {},
   "outputs": [],
   "source": [
    "merged_start\n"
   ]
  },
  {
   "cell_type": "code",
   "execution_count": null,
   "metadata": {},
   "outputs": [],
   "source": [
    "merged_end"
   ]
  },
  {
   "cell_type": "markdown",
   "metadata": {},
   "source": [
    "#### Define Metrics"
   ]
  },
  {
   "cell_type": "code",
   "execution_count": null,
   "metadata": {},
   "outputs": [],
   "source": [
    "pass_start = merged_start[merged_start['Type'] == 'PASS']"
   ]
  },
  {
   "cell_type": "code",
   "execution_count": null,
   "metadata": {},
   "outputs": [],
   "source": [
    "pass_start = pd.DataFrame(pass_start)"
   ]
  },
  {
   "cell_type": "code",
   "execution_count": null,
   "metadata": {},
   "outputs": [],
   "source": [
    "type(pass_start)"
   ]
  },
  {
   "cell_type": "code",
   "execution_count": null,
   "metadata": {},
   "outputs": [],
   "source": [
    "pass_start"
   ]
  },
  {
   "cell_type": "markdown",
   "metadata": {},
   "source": [
    "Calculate Number Of the apponents in the area of 5m from the ball"
   ]
  },
  {
   "cell_type": "code",
   "execution_count": null,
   "metadata": {},
   "outputs": [],
   "source": [
    "pass_start['app_num'] = 0  # Initialize the app_num column\n",
    "\n",
    "# Iterate through each row of the DataFrame\n",
    "for index, row in pass_start.iterrows():\n",
    "    ho_app = 0\n",
    "    aw_app = 0\n",
    "    if row['Team'] == 'Home':\n",
    "        # Calculate the distance to each Away player and append it to the list\n",
    "        for player in range(15, 27):  # Assuming player IDs are from 15 to 26\n",
    "            distance = ((row['Start X'] - row[f'Away_{player}']) ** 2 + (row['Start Y'] - row[f'Away_{player}_y']) ** 2) ** 0.5\n",
    "            if distance<=5 :\n",
    "                ho_app = ho_app + 1\n",
    "        pass_start.at[index, 'app_num'] = ho_app\n",
    "    elif row['Team'] == 'Away':\n",
    "        # Calculate the distance to each Home player and append it to the list\n",
    "        for player in range(1, 15):  # Assuming player IDs are from 1 to 14\n",
    "            distance = ((row['Start X'] - row[f'Home_{player}']) ** 2 + (row['Start Y'] - row[f'Home_{player}_y']) ** 2) ** 0.5\n",
    "            if distance<=5 :\n",
    "                aw_app = aw_app + 1\n",
    "        pass_start.at[index, 'app_num'] = aw_app"
   ]
  },
  {
   "cell_type": "code",
   "execution_count": null,
   "metadata": {},
   "outputs": [],
   "source": [
    "pass_start"
   ]
  },
  {
   "cell_type": "markdown",
   "metadata": {},
   "source": [
    "Calculate Number Of the Team players (the side who posses the ball) in the area of 5m from the ball"
   ]
  },
  {
   "cell_type": "code",
   "execution_count": null,
   "metadata": {},
   "outputs": [],
   "source": [
    "pass_start['teammate_num'] = 0  # Initialize the teammate numbers column\n",
    "\n",
    "# Iterate through each row of the DataFrame\n",
    "for index, row in pass_start.iterrows():\n",
    "    ho_teammates = 0\n",
    "    aw_teammates = 0\n",
    "    if row['Team'] == 'Home':\n",
    "        # Calculate the distance to each Away player and append it to the list\n",
    "        for player in range(1,15):  # Assuming Home player IDs are from 1 to 14\n",
    "            distance = ((row['Start X'] - row[f'Home_{player}']) ** 2 + (row['Start Y'] - row[f'Home_{player}_y']) ** 2) ** 0.5\n",
    "            if distance<=5 :\n",
    "                ho_teammates = ho_teammates + 1\n",
    "        pass_start.at[index, 'teammate_num'] = ho_teammates\n",
    "    elif row['Team'] == 'Away':\n",
    "        # Calculate the distance to each Home player and append it to the list\n",
    "        for player in range(15, 27):  # Assuming Away player IDs are from 15 to 26\n",
    "            distance = ((row['Start X'] - row[f'Away_{player}']) ** 2 + (row['Start Y'] - row[f'Away_{player}_y']) ** 2) ** 0.5\n",
    "            if distance<=5 :\n",
    "                aw_teammates = aw_teammates + 1\n",
    "        pass_start.at[index, 'teammate_num'] = aw_teammates\n",
    "\n",
    "# Create a new column 'teammate numberss' in the DataFrame and assign the calculated aw_app or ho_app\n"
   ]
  },
  {
   "cell_type": "code",
   "execution_count": null,
   "metadata": {},
   "outputs": [],
   "source": [
    "pass_start"
   ]
  },
  {
   "cell_type": "markdown",
   "metadata": {},
   "source": [
    "Determine the ratio of opponents to players in possession of the ball."
   ]
  },
  {
   "cell_type": "code",
   "execution_count": null,
   "metadata": {},
   "outputs": [],
   "source": [
    "pass_start['ratio_s'] = 0  # Initialize the teammate numbers column\n",
    "\n",
    "# Iterate through each row of the DataFrame\n",
    "for index, row in pass_start.iterrows():\n",
    "   pass_start.at[index, 'ratio_s'] = row['app_num'] / row['teammate_num']"
   ]
  },
  {
   "cell_type": "code",
   "execution_count": null,
   "metadata": {},
   "outputs": [],
   "source": [
    "pass_start"
   ]
  },
  {
   "cell_type": "markdown",
   "metadata": {},
   "source": [
    "Calculate the ratio this time for the merged_end dataset"
   ]
  },
  {
   "cell_type": "code",
   "execution_count": null,
   "metadata": {},
   "outputs": [],
   "source": [
    "pass_end = merged_end[merged_end['Type'] == 'PASS']\n",
    "pass_end = pd.DataFrame(pass_end)\n",
    "\n",
    "##Calculate Number Of the apponents in the area of 5m from the ball\n",
    "\n",
    "pass_end['app_num'] = 0  # Initialize the app_num column\n",
    "\n",
    "# Iterate through each row of the DataFrame\n",
    "for index, row in pass_end.iterrows():\n",
    "    ho_app = 0\n",
    "    aw_app = 0\n",
    "    if row['Team'] == 'Home':\n",
    "        # Calculate the distance to each Away player and append it to the list\n",
    "        for player in range(15, 27):  # Assuming player IDs are from 15 to 26\n",
    "            distance = ((row['Start X'] - row[f'Away_{player}']) ** 2 + (row['Start Y'] - row[f'Away_{player}_y']) ** 2) ** 0.5\n",
    "            if distance<=5 :\n",
    "                ho_app = ho_app + 1\n",
    "        pass_end.at[index, 'app_num'] = ho_app\n",
    "    elif row['Team'] == 'Away':\n",
    "        # Calculate the distance to each Home player and append it to the list\n",
    "        for player in range(1, 15):  # Assuming player IDs are from 1 to 14\n",
    "            distance = ((row['Start X'] - row[f'Home_{player}']) ** 2 + (row['Start Y'] - row[f'Home_{player}_y']) ** 2) ** 0.5\n",
    "            if distance<=5 :\n",
    "                aw_app = aw_app + 1\n",
    "        pass_end.at[index, 'app_num'] = aw_app\n",
    "\n",
    "##Calculate Number Of the Team players (the side who posses the ball) in the area of 5m from the ball\n",
    "\n",
    "pass_end['teammate_num'] = 0  # Initialize the teammate numbers column\n",
    "# Iterate through each row of the DataFrame\n",
    "for index, row in pass_end.iterrows():\n",
    "    ho_teammates = 0\n",
    "    aw_teammates = 0\n",
    "    if row['Team'] == 'Home':\n",
    "        # Calculate the distance to each Away player and append it to the list\n",
    "        for player in range(1,15):  # Assuming Home player IDs are from 1 to 14\n",
    "            distance = ((row['End X'] - row[f'Home_{player}']) ** 2 + (row['End Y'] - row[f'Home_{player}_y']) ** 2) ** 0.5\n",
    "            if distance<=5 :\n",
    "                ho_teammates = ho_teammates + 1\n",
    "        pass_end.at[index, 'teammate_num'] = ho_teammates\n",
    "    elif row['Team'] == 'Away':\n",
    "        # Calculate the distance to each Home player and append it to the list\n",
    "        for player in range(15, 27):  # Assuming Away player IDs are from 15 to 26\n",
    "            distance = ((row['End X'] - row[f'Away_{player}']) ** 2 + (row['End Y'] - row[f'Away_{player}_y']) ** 2) ** 0.5\n",
    "            if distance<=5 :\n",
    "                aw_teammates = aw_teammates + 1\n",
    "        pass_end.at[index, 'teammate_num'] = aw_teammates\n",
    "\n",
    "##Determine the ratio of opponents to players in possession of the ball.\n",
    "\n",
    "pass_end['ratio_e'] = 0  # Initialize the teammate numbers column\n",
    "# Iterate through each row of the DataFrame\n",
    "for index, row in pass_end.iterrows():\n",
    "   pass_end.at[index, 'ratio_e'] = row['app_num'] / row['teammate_num']\n",
    "\n"
   ]
  },
  {
   "cell_type": "code",
   "execution_count": null,
   "metadata": {},
   "outputs": [],
   "source": [
    "pass_end"
   ]
  },
  {
   "cell_type": "markdown",
   "metadata": {},
   "source": [
    "#1 Find the difference between the two ratios >> The more the better"
   ]
  },
  {
   "cell_type": "code",
   "execution_count": null,
   "metadata": {},
   "outputs": [],
   "source": [
    "pass_start['diff_ratio'] = pass_start['ratio_s'] - pass_end['ratio_e']"
   ]
  },
  {
   "cell_type": "code",
   "execution_count": null,
   "metadata": {},
   "outputs": [],
   "source": [
    "pass_start"
   ]
  },
  {
   "cell_type": "markdown",
   "metadata": {},
   "source": [
    "#2 Calculate the difference between the number of opponents and the number of teammates near the player who received the pass. >> The less the better"
   ]
  },
  {
   "cell_type": "code",
   "execution_count": null,
   "metadata": {},
   "outputs": [],
   "source": [
    "pass_end['diff_app_mate'] = pass_end['app_num'] - pass_end['teammate_num']"
   ]
  },
  {
   "cell_type": "code",
   "execution_count": null,
   "metadata": {},
   "outputs": [],
   "source": [
    "pass_end"
   ]
  },
  {
   "cell_type": "markdown",
   "metadata": {},
   "source": [
    "#3 Determine the distance covered by the ball during the pass."
   ]
  },
  {
   "cell_type": "code",
   "execution_count": null,
   "metadata": {},
   "outputs": [],
   "source": [
    "# Initialize an empty list to store 'PassVector' values, it shows both the magnitude and the direction of the ball during the pass\n",
    "pass_vectors = []\n",
    "\n",
    "# Loop through each row in the DataFrame\n",
    "for index, row in pass_start.iterrows():\n",
    "    if row['End X'] < row['Start X']:\n",
    "        pass_vectors.append(((((row['End X'] - row['Start X'])**2 + (row['End Y'] - row['Start Y'])**2) ** 0.5) * -1))\n",
    "    else:\n",
    "        pass_vectors.append(((row['End X'] - row['Start X'])**2 + (row['End Y'] - row['Start Y'])**2) ** 0.5)\n",
    "\n",
    "# Add the 'PassVector' values to the DataFrame\n",
    "pass_start['PassVector'] = pass_vectors"
   ]
  },
  {
   "cell_type": "code",
   "execution_count": null,
   "metadata": {},
   "outputs": [],
   "source": [
    "pass_start"
   ]
  },
  {
   "cell_type": "code",
   "execution_count": null,
   "metadata": {},
   "outputs": [],
   "source": [
    "pass_end['End X'].unique()"
   ]
  },
  {
   "cell_type": "code",
   "execution_count": null,
   "metadata": {},
   "outputs": [],
   "source": [
    "pass_end['End Y'].unique()"
   ]
  },
  {
   "cell_type": "markdown",
   "metadata": {},
   "source": [
    "#4 Determine if the Pass Reciever is in the Penalty Area of the apponent team"
   ]
  },
  {
   "cell_type": "code",
   "execution_count": null,
   "metadata": {},
   "outputs": [],
   "source": [
    "pass_end.dropna(inplace=True)"
   ]
  },
  {
   "cell_type": "code",
   "execution_count": null,
   "metadata": {},
   "outputs": [],
   "source": [
    "# Convert 'Period' column to numeric (integer) type\n",
    "pass_end['Period'] = pass_end['Period'].astype(int)\n",
    "\n",
    "# Ensure 'End X' and 'End Y' columns are in numeric format (float or int)\n",
    "pass_end['End X'] = pass_end['End X'].astype(float)\n",
    "pass_end['End Y'] = pass_end['End Y'].astype(float)"
   ]
  },
  {
   "cell_type": "code",
   "execution_count": null,
   "metadata": {},
   "outputs": [],
   "source": [
    "pass_end['penalty_area'] = 0  # Initialize the new column with zeros"
   ]
  },
  {
   "cell_type": "code",
   "execution_count": null,
   "metadata": {},
   "outputs": [],
   "source": [
    "for i, column in enumerate(pass_start.columns):\n",
    "    print(f\"Column {i}: {column}\")"
   ]
  },
  {
   "cell_type": "code",
   "execution_count": null,
   "metadata": {},
   "outputs": [],
   "source": [
    "pass_end.loc[(pass_end.iloc[:, 3] == 1) & (pass_end.iloc[:, 0] == 'Home') &  (pass_end.iloc[:, 12] <= -43.5) & (pass_end.iloc[:, 13] >= -20.6 ) & (pass_end.iloc[:, 13] <= 20.16), 'penalty_area'] = 1\n",
    "pass_end.loc[(pass_end.iloc[:, 3] == 1) & (pass_end.iloc[:, 0] == 'Away') & (pass_end.iloc[:, 12] >= 43.5) &  (pass_end.iloc[:, 13] >= -20.6 ) & (pass_end.iloc[:, 13] <= 20.16), 'penalty_area'] = 1\n",
    "pass_end.loc[(pass_end.iloc[:, 3] == 2) & (pass_end.iloc[:, 0] == 'Home') & (pass_end.iloc[:, 12] >= 43.5) &  (pass_end.iloc[:, 13] >= -20.6 ) & (pass_end.iloc[:, 13] <= 20.16), 'penalty_area'] = 1\n",
    "pass_end.loc[(pass_end.iloc[:, 3] == 2) & (pass_end.iloc[:, 0] == 'Away') &  (pass_end.iloc[:, 12] <= -43.5) & (pass_end.iloc[:, 13] >= -20.6 ) & (pass_end.iloc[:, 13] <= 20.16), 'penalty_area'] = 1\n",
    "#0.4"
   ]
  },
  {
   "cell_type": "markdown",
   "metadata": {},
   "source": [
    "#5 Determine next event of the Pass"
   ]
  },
  {
   "cell_type": "code",
   "execution_count": null,
   "metadata": {},
   "outputs": [],
   "source": [
    "# Assuming 'merged_start' is your DataFrame\n",
    "merged_start['next_event'] = merged_start['Type'].shift(-1)\n",
    "merged_start['next_subtype'] = merged_start['Subtype'].shift(-1)\n",
    "merged_start['next_team'] = merged_start['Team'].shift(-1)\n",
    "\n",
    "# Set 'next_event' to 0 for rows where 'Type' is not 'Pass'\n",
    "merged_start.loc[merged_start['Type'] != 'PASS', 'next_event'] = 0\n",
    "merged_start.loc[merged_start['Type'] != 'PASS', 'next_subtype'] = 0\n",
    "merged_start.loc[merged_start['Type'] != 'PASS', 'next_team'] = 0\n",
    "\n",
    "# If you want to replace NaN values in 'next_event' and 'next_subtype' with something specific like 0, you can do it like this\n",
    "merged_start['next_event'] = merged_start['next_event'].fillna(0)\n",
    "merged_start['next_subtype'] = merged_start['next_subtype'].fillna(0)\n",
    "merged_start['next_team'] = merged_start['next_team'].fillna(0)"
   ]
  },
  {
   "cell_type": "code",
   "execution_count": null,
   "metadata": {},
   "outputs": [],
   "source": [
    "merged_start"
   ]
  },
  {
   "cell_type": "code",
   "execution_count": null,
   "metadata": {},
   "outputs": [],
   "source": [
    "unique_subtypes = {}\n",
    "types = ['PASS', 'BALL LOST', 'CHALLENGE', 'RECOVERY', 'BALL OUT', 'SHOT', 'FAULT RECEIVED', 'CARD']\n",
    "\n",
    "for typ in types:\n",
    "    subtypes = merged_start.loc[merged_start['Type'] == typ, 'Subtype'].unique()\n",
    "    unique_subtypes[typ] = subtypes\n",
    "\n",
    "# Print the results\n",
    "for typ, subtypes in unique_subtypes.items():\n",
    "    print(f\"Type: {typ} {subtypes}\\n\") "
   ]
  },
  {
   "cell_type": "code",
   "execution_count": null,
   "metadata": {},
   "outputs": [],
   "source": [
    "unique_combinations = merged_start[['Team','next_event', 'next_subtype','next_team']].drop_duplicates()\n",
    "\n",
    "# If you want to see the unique combinations as a list of tuples\n",
    "unique_combinations_list = list(unique_combinations.itertuples(index=False, name=None))\n",
    "\n",
    "unique_combinations_list"
   ]
  },
  {
   "cell_type": "code",
   "execution_count": null,
   "metadata": {},
   "outputs": [],
   "source": [
    "for i, column in enumerate(merged_start.columns):\n",
    "    print(f\"Column {i}: {column}\")\n"
   ]
  },
  {
   "cell_type": "markdown",
   "metadata": {},
   "source": [
    "Assign Rates"
   ]
  },
  {
   "cell_type": "code",
   "execution_count": null,
   "metadata": {},
   "outputs": [],
   "source": [
    "# Define the conditions and their corresponding rates\n",
    "conditions = {\n",
    "    ('Away', 'SHOT', 'ON TARGET-GOAL', 'Away') : 1.0 ,\n",
    "    ('Away', 'SHOT', 'ON TARGET-SAVED', 'Away') : 0.9 ,\n",
    "    ('Away', 'SHOT', 'OFF TARGET-OUT', 'Away') : 0.8 ,\n",
    "    ('Away', 'SHOT', 'OFF TARGET-HEAD-OUT', 'Away') : 0.8 ,\n",
    "    ('Away', 'PASS', 'CROSS', 'Away') : 0.6 ,\n",
    "    ('Away', 'PASS', 0, 'Away') : 0.5 ,\n",
    "    ('Away', 'PASS', 'HEAD', 'Away') : 0.5 , \n",
    "    ('Away', 'BALL OUT', 'CROSS', 'Away') : 0.4 ,\n",
    "    ('Away', 'CHALLENGE', 'AERIAL-WON', 'Away') : 0.3 , \n",
    "    ('Away', 'CHALLENGE', 'TACKLE-WON', 'Away') : 0.3 ,\n",
    "    ('Away', 'CHALLENGE', 'GROUND-ADVANTAGE-WON', 'Away') : 0.3,\n",
    "    ('Away', 'CHALLENGE', 'DRIBBLE-WON', 'Away') : 0.3,\n",
    "    ('Away', 'CHALLENGE', 'GROUND-WON', 'Away') : 0.3,\n",
    "    ('Away', 'CHALLENGE', 'TACKLE-ADVANTAGE-WON', 'Away') : 0.3,\n",
    "    ('Away', 'CHALLENGE', 'AERIAL-LOST', 'Home') : 0.2,\n",
    "    ('Away', 'CHALLENGE', 'TACKLE-LOST', 'Home') : 0.2,\n",
    "    ('Away', 'CHALLENGE', 'GROUND-ADVANTAGE-LOST', 'Home') : 0.2,\n",
    "    ('Away', 'CHALLENGE', 'GROUND-LOST', 'Home') : 0.2,\n",
    "    ('Away', 'RECOVERY', 'THEFT', 'Home') : -0.5,\n",
    "    ('Away', 'RECOVERY', 'INTERCEPTION', 'Home') : -0.5,\n",
    "    ('Away', 'BALL LOST', 'CROSS-INTERCEPTION', 'Away') : -0.4,\n",
    "    ('Away', 'BALL LOST', 'INTERCEPTION', 'Away') : -0.3,\n",
    "    ('Away', 'BALL LOST', 'HEAD-INTERCEPTION', 'Away') : -0.3,\n",
    "    ('Away', 'BALL LOST', 'FORCED', 'Away') : -0.25,\n",
    "    ('Away', 'BALL LOST', 'THEFT', 'Away') : -0.25,\n",
    "    ('Away', 'BALL LOST', 0, 'Away') : -0.2,\n",
    "    ('Away', 'BALL LOST', 'HAND BALL', 'Away') : -0.2,\n",
    "    ('Away', 'CHALLENGE', 'GROUND-FAULT-LOST', 'Home') : -0.1,\n",
    "    ('Away', 'CHALLENGE', 'TACKLE-WON', 'Home') : -0.1,\n",
    "    ('Away', 'CHALLENGE', 'GROUND-WON', 'Home') : -0.1,\n",
    "    ('Away', 'CHALLENGE', 'TACKLE-LOST', 'Away') : -0.1,\n",
    "    ('Away', 'PASS', 0, 'Home') : -0.1,\n",
    "    ('Away', 'BALL OUT', 0, 'Away') : -0.1,\n",
    "    ('Away', 'CHALLENGE', 'TACKLE-FAULT-WON', 'Away') : -0.1,\n",
    "    ('Away', 'CHALLENGE', 'GROUND-LOST', 'Away') : -0.1,\n",
    "    ('Away', 'CHALLENGE', 'GROUND', 'Home') : -0.1,\n",
    "    ('Home', 'SHOT', 'ON TARGET-GOAL', 'Home') : 1.0 ,\n",
    "    ('Home', 'SHOT', 'ON TARGET-SAVED', 'Home') : 0.9 ,\n",
    "    ('Home', 'SHOT', 'OFF TARGET-OUT', 'Home') : 0.8,\n",
    "    ('Home', 'SHOT', 'HEAD-OFF TARGET-OUT', 'Home') : 0.8,\n",
    "    ('Home', 'PASS', 'CROSS', 'Home') : 0.6,\n",
    "    ('Home', 'PASS', 'DEEP BALL', 'Home') : 0.5,\n",
    "    ('Home', 'PASS', 0, 'Home') : 0.5,\n",
    "    ('Home', 'PASS', 'HEAD', 'Home') : 0.5,\n",
    "    ('Home', 'BALL OUT', 0, 'Home') : 0.4,\n",
    "    ('Home', 'BALL OUT', 'CLEARANCE', 'Home') : 0.4,\n",
    "    ('Home', 'CHALLENGE', 'GROUND-WON', 'Home') : 0.3,\n",
    "    ('Home', 'CHALLENGE', 'AERIAL-WON', 'Home') : 0.3,\n",
    "    ('Home', 'CHALLENGE', 'AERIAL-LOST', 'Away') : 0.2,\n",
    "    ('Home', 'CHALLENGE', 'TACKLE-LOST', 'Away') : 0.2,\n",
    "    ('Home', 'CHALLENGE', 'GROUND-LOST', 'Away') : 0.2,\n",
    "    ('Home', 'RECOVERY', 'INTERCEPTION', 'Away') : -0.5,\n",
    "    ('Home', 'RECOVERY', 'THEFT', 'Away') : -0.5,\n",
    "    ('Home', 'BALL LOST', 'CROSS-INTERCEPTION', 'Home') : -0.4,\n",
    "    ('Home', 'BALL LOST', 'INTERCEPTION', 'Home') : -0.3,\n",
    "    ('Home', 'BALL LOST', 'HEAD-INTERCEPTION', 'Home') : -0.3,\n",
    "    ('Home', 'BALL LOST', 'FORCED', 'Home') : -0.25,\n",
    "    ('Home', 'BALL LOST', 'HEAD', 'Home') : -0.2,\n",
    "    ('Home', 'BALL LOST', 0, 'Home') : -0.2,\n",
    "    ('Home', 'CHALLENGE', 'TACKLE-FAULT-WON', 'Home') : -0.1,\n",
    "    ('Home', 'CHALLENGE', 'TACKLE-FAULT-LOST', 'Away') : -0.1,\n",
    "    ('Home', 'CHALLENGE', 'TACKLE-LOST', 'Home') : -0.1,\n",
    "    ('Home', 'CHALLENGE', 'TACKLE-WON', 'Away') : -0.1,\n",
    "    ('Home', 'CHALLENGE', 'GROUND-WON', 'Away') : -0.1,\n",
    "    ('Home', 'CHALLENGE', 'GROUND-FAULT-WON', 'Home') : -0.1,\n",
    "    ('Home', 'CHALLENGE', 'GROUND-FAULT-LOST', 'Away') : -0.1,\n",
    "    ('Home', 'CHALLENGE', 'GROUND-FAULT-LOST', 'Home') : -0.1,\n",
    "}\n",
    "\n",
    "# Define a function to calculate 'r_next_event' based on the conditions\n",
    "def calculate_r_next_event(row):\n",
    "    for condition, rate in conditions.items():\n",
    "        if all(row[col] == val for col, val in zip(['Team', 'next_event', 'next_subtype', 'next_team'], condition)):\n",
    "            return rate\n",
    "    return 0\n",
    "\n",
    "# Add the 'r_next_event' column to the DataFrame\n",
    "merged_start['r_next_event'] = merged_start.apply(calculate_r_next_event, axis=1)\n",
    "\n",
    "# Print the updated DataFrame\n",
    "merged_start[merged_start['next_event']!=0]"
   ]
  },
  {
   "cell_type": "markdown",
   "metadata": {},
   "source": [
    "#6 Rate Pass itself based on the its Sub Type"
   ]
  },
  {
   "cell_type": "code",
   "execution_count": null,
   "metadata": {},
   "outputs": [],
   "source": [
    "pass_subtype_valuation_dict = {\n",
    "    'CROSS': 0.7,\n",
    "    'DEEP BALL': 0.2,\n",
    "    'HEAD': 0.2,\n",
    "    'GOAL KICK': 0.1,\n",
    "    'HEAD-INTERCEPTION-CLEARANCE': 0.5\n",
    "}\n",
    "\n",
    "# Add a new column rate Pass sub type 'r_pass_sub'\n",
    "merged_start['r_pass_sub'] = merged_start.apply(\n",
    "    lambda row: pass_subtype_valuation_dict[row['Subtype']] if row['Type'] == 'PASS' and row['Subtype'] in pass_subtype_valuation_dict else 0, axis=1)"
   ]
  },
  {
   "cell_type": "code",
   "execution_count": null,
   "metadata": {},
   "outputs": [],
   "source": [
    "# Chaeck rating\n",
    "filter_start = merged_start[merged_start['Type']=='PASS']\n",
    "filter_start[filter_start['Subtype'].notnull()]"
   ]
  },
  {
   "cell_type": "markdown",
   "metadata": {},
   "source": []
  },
  {
   "cell_type": "code",
   "execution_count": null,
   "metadata": {},
   "outputs": [],
   "source": [
    "merged_start"
   ]
  },
  {
   "cell_type": "code",
   "execution_count": null,
   "metadata": {},
   "outputs": [],
   "source": [
    "pass_start"
   ]
  }
 ],
 "metadata": {
  "kernelspec": {
   "display_name": "Python 3",
   "language": "python",
   "name": "python3"
  },
  "language_info": {
   "codemirror_mode": {
    "name": "ipython",
    "version": 3
   },
   "file_extension": ".py",
   "mimetype": "text/x-python",
   "name": "python",
   "nbconvert_exporter": "python",
   "pygments_lexer": "ipython3",
   "version": "3.8.4"
  },
  "orig_nbformat": 4
 },
 "nbformat": 4,
 "nbformat_minor": 2
}
